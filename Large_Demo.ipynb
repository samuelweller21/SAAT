{
 "cells": [
  {
   "cell_type": "code",
   "execution_count": 1,
   "id": "2c00ea66-471a-42bb-b0b9-c174ff168572",
   "metadata": {},
   "outputs": [],
   "source": [
    "# Imports\n",
    "import pandas as pd\n",
    "import lib.SAAT as SAAT\n",
    "import lib.utils as utils\n",
    "import numpy as np"
   ]
  },
  {
   "cell_type": "code",
   "execution_count": 9,
   "id": "2f9533b0-5e13-4523-ac84-60a4e9045c29",
   "metadata": {},
   "outputs": [],
   "source": [
    "# Test data\n",
    "x = np.array([[0,1,1,1,1],\n",
    "     [1,0,1,1,0],\n",
    "     [0,0,0,1,1],\n",
    "     [0,1,1,1,0],\n",
    "     [0,0,0,1,1]])"
   ]
  },
  {
   "cell_type": "code",
   "execution_count": 10,
   "id": "497bd964-18da-45c8-9f80-3ca229c80a1e",
   "metadata": {},
   "outputs": [
    {
     "name": "stderr",
     "output_type": "stream",
     "text": [
      " Temperature        Energy    Accept   Improve     Elapsed   Remaining\n",
      "     0.03000          8.00    52.45%     0.00%     0:00:04     0:00:00 Temperature        Energy    Accept   Improve     Elapsed   Remaining\n",
      "     0.03000          8.00    49.07%     0.00%     0:00:11     0:00:00"
     ]
    }
   ],
   "source": [
    "my_SAAT = SAAT.SAAT(times = x, group_size = 2)\n",
    "my_SAAT.set_schedule(my_SAAT.auto(minutes=0.2))\n",
    "\n",
    "my_SAAT.copy_strategy = \"slice\" # since our state is just a list, slice is the fastest way to copy\n",
    "\n",
    "#Anneal\n",
    "state, e = my_SAAT.anneal()"
   ]
  },
  {
   "cell_type": "code",
   "execution_count": 11,
   "id": "2e50adc5-e967-4bb1-acfe-e43bff4e0b1f",
   "metadata": {},
   "outputs": [
    {
     "name": "stdout",
     "output_type": "stream",
     "text": [
      "Allocation: [1, 4, 5, 2, 3]\n",
      "Energy minimised at: 8.0\n",
      "\n",
      "0\u001b[1;41;41m 0\u001b[1;42;42m 1\u001b[1;42;42m 1\u001b[1;42;42m 1\u001b[1;42;42m 1\u001b[0m\n",
      "3\u001b[1;41;41m 0\u001b[1;42;42m 1\u001b[1;42;42m 1\u001b[1;42;42m 1\u001b[1;41;41m 0\u001b[0m\n",
      "\n",
      "4\u001b[1;41;41m 0\u001b[1;41;41m 0\u001b[1;41;41m 0\u001b[1;42;42m 1\u001b[1;42;42m 1\u001b[0m\n",
      "1\u001b[1;42;42m 1\u001b[1;41;41m 0\u001b[1;42;42m 1\u001b[1;42;42m 1\u001b[1;41;41m 0\u001b[0m\n",
      "2\u001b[1;41;41m 0\u001b[1;41;41m 0\u001b[1;41;41m 0\u001b[1;42;42m 1\u001b[1;42;42m 1\u001b[0m\n"
     ]
    }
   ],
   "source": [
    "# Print\n",
    "print('Allocation: ' + str(state))\n",
    "print('Energy minimised at: ' + str(e))\n",
    "utils.print_pretty_allocations(state, times = x, group_size = 2)"
   ]
  },
  {
   "cell_type": "code",
   "execution_count": 12,
   "id": "66402f71-4718-4889-917b-cf66da3154fc",
   "metadata": {},
   "outputs": [
    {
     "name": "stderr",
     "output_type": "stream",
     "text": [
      " Temperature        Energy    Accept   Improve     Elapsed   Remaining\n",
      "     0.00049         36.55     6.20%     0.00%     0:02:24    -1:58:10 Temperature        Energy    Accept   Improve     Elapsed   Remaining\n",
      "     0.00049         38.13     8.24%     0.59%     0:00:13     0:00:00"
     ]
    }
   ],
   "source": [
    "data = utils.generate_data(120,9)\n",
    "my_SAAT = SAAT.SAAT(times = data, group_size = 7)\n",
    "my_SAAT.set_schedule(my_SAAT.auto(minutes=0.2))\n",
    "# since our state is just a list, slice is the fastest way to copy\n",
    "my_SAAT.copy_strategy = \"slice\"\n",
    "state, e = my_SAAT.anneal()"
   ]
  },
  {
   "cell_type": "code",
   "execution_count": 13,
   "id": "869e79c9-5d5c-4377-9c10-988282bb509f",
   "metadata": {},
   "outputs": [
    {
     "name": "stdout",
     "output_type": "stream",
     "text": [
      "Allocation: [40, 21, 81, 13, 32, 18, 103, 42, 22, 119, 46, 56, 16, 84, 8, 104, 54, 15, 99, 19, 63, 114, 41, 62, 77, 7, 64, 2, 92, 70, 47, 1, 34, 27, 67, 55, 108, 110, 93, 30, 72, 73, 50, 3, 65, 89, 88, 78, 97, 5, 107, 86, 29, 76, 111, 52, 4, 31, 49, 102, 44, 75, 91, 10, 11, 71, 17, 6, 113, 45, 106, 58, 33, 80, 117, 36, 105, 68, 120, 25, 23, 26, 116, 59, 90, 61, 51, 53, 12, 100, 20, 43, 37, 69, 66, 83, 101, 98, 28, 9, 14, 39, 38, 85, 57, 118, 82, 74, 87, 24, 109, 112, 60, 79, 94, 95, 35, 48, 115, 96]\n",
      "Energy minimised at: 36.5530208351922\n"
     ]
    },
    {
     "ename": "IndexError",
     "evalue": "index 39 is out of bounds for axis 0 with size 5",
     "output_type": "error",
     "traceback": [
      "\u001b[0;31m---------------------------------------------------------------------------\u001b[0m",
      "\u001b[0;31mIndexError\u001b[0m                                Traceback (most recent call last)",
      "Cell \u001b[0;32mIn[13], line 4\u001b[0m\n\u001b[1;32m      2\u001b[0m \u001b[38;5;28mprint\u001b[39m(\u001b[38;5;124m'\u001b[39m\u001b[38;5;124mAllocation: \u001b[39m\u001b[38;5;124m'\u001b[39m \u001b[38;5;241m+\u001b[39m \u001b[38;5;28mstr\u001b[39m(state))\n\u001b[1;32m      3\u001b[0m \u001b[38;5;28mprint\u001b[39m(\u001b[38;5;124m'\u001b[39m\u001b[38;5;124mEnergy minimised at: \u001b[39m\u001b[38;5;124m'\u001b[39m \u001b[38;5;241m+\u001b[39m \u001b[38;5;28mstr\u001b[39m(e))\n\u001b[0;32m----> 4\u001b[0m \u001b[43mutils\u001b[49m\u001b[38;5;241;43m.\u001b[39;49m\u001b[43mprint_pretty_allocations\u001b[49m\u001b[43m(\u001b[49m\u001b[43mstate\u001b[49m\u001b[43m,\u001b[49m\u001b[43m \u001b[49m\u001b[43mtimes\u001b[49m\u001b[43m \u001b[49m\u001b[38;5;241;43m=\u001b[39;49m\u001b[43m \u001b[49m\u001b[43mx\u001b[49m\u001b[43m,\u001b[49m\u001b[43m \u001b[49m\u001b[43mgroup_size\u001b[49m\u001b[43m \u001b[49m\u001b[38;5;241;43m=\u001b[39;49m\u001b[43m \u001b[49m\u001b[38;5;241;43m7\u001b[39;49m\u001b[43m)\u001b[49m\n",
      "File \u001b[0;32m~/SAAT/lib/utils.py:77\u001b[0m, in \u001b[0;36mprint_pretty_allocations\u001b[0;34m(state, times, group_size, g, extras)\u001b[0m\n\u001b[1;32m     74\u001b[0m group_ids \u001b[38;5;241m=\u001b[39m [x\u001b[38;5;241m-\u001b[39m\u001b[38;5;241m1\u001b[39m \u001b[38;5;28;01mfor\u001b[39;00m x \u001b[38;5;129;01min\u001b[39;00m group_ids]\n\u001b[1;32m     76\u001b[0m \u001b[38;5;66;03m# Retrieve from x\u001b[39;00m\n\u001b[0;32m---> 77\u001b[0m y \u001b[38;5;241m=\u001b[39m \u001b[43mx\u001b[49m\u001b[43m[\u001b[49m\u001b[43mgroup_ids\u001b[49m\u001b[43m,\u001b[49m\u001b[43m \u001b[49m\u001b[43m:\u001b[49m\u001b[43m]\u001b[49m\n\u001b[1;32m     79\u001b[0m \u001b[38;5;28;01mif\u001b[39;00m extras \u001b[38;5;129;01mis\u001b[39;00m \u001b[38;5;129;01mnot\u001b[39;00m \u001b[38;5;28;01mNone\u001b[39;00m:\n\u001b[1;32m     80\u001b[0m     extra \u001b[38;5;241m=\u001b[39m extras\u001b[38;5;241m.\u001b[39miloc[group_ids, :]\n",
      "\u001b[0;31mIndexError\u001b[0m: index 39 is out of bounds for axis 0 with size 5"
     ]
    }
   ],
   "source": [
    "# Print\n",
    "print('Allocation: ' + str(state))\n",
    "print('Energy minimised at: ' + str(e))\n",
    "utils.print_pretty_allocations(state, times = x, group_size = 7)"
   ]
  },
  {
   "cell_type": "code",
   "execution_count": null,
   "id": "bf835ed1-0f55-4aa2-8105-5fb1bb430db3",
   "metadata": {},
   "outputs": [],
   "source": []
  }
 ],
 "metadata": {
  "kernelspec": {
   "display_name": "SAAT",
   "language": "python",
   "name": "venv"
  },
  "language_info": {
   "codemirror_mode": {
    "name": "ipython",
    "version": 3
   },
   "file_extension": ".py",
   "mimetype": "text/x-python",
   "name": "python",
   "nbconvert_exporter": "python",
   "pygments_lexer": "ipython3",
   "version": "3.9.4"
  }
 },
 "nbformat": 4,
 "nbformat_minor": 5
}
